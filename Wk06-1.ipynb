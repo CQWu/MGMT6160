{
 "cells": [
  {
   "cell_type": "markdown",
   "metadata": {},
   "source": [
    "## An In-Depth Example of Hypothesis Testing\n",
    "#### Basic Story\n",
    "To test whether a coin is a fair coin, we decide to flip this coin 10 times and count the numbers of Heads (H) and Tails (T) we observe. Let X be the number of Hs observed from 10 tosses and p be the actual probability of getting H from flipping this coin. If this is a fair coin, then p = .5. Suppose the significance level $\\alpha$ is .05. We will do the following:\n",
    "1. Formulate null and alternative hypotheses $H_0$ and $H_a $\n",
    "2. Type I error, p-value, and significance level $\\alpha $  \n",
    "3. Compute the p-values associated with 8 Heads, 9 Tails and 10 Heads, respectively. Interpret the meaning of these p-values.\n",
    "4. Compute the critical value associated with $\\alpha $ = .05. \n",
    "5. Calculate the probability of making Type II error $\\beta $ given p = .6, .7 and .8, respectively.\n",
    "6. Suppose $\\alpha$ = .01. Recalculate the probability of making Type II error $\\beta$ given p = .6, .7 and .8, respectively.\n",
    "7. Suppose we flip the same coin 100 times. $\\alpha $ = .05 or .01, respectively. Recalculate the probability of making Type II error $\\beta$ given p = .6, .7 and .8, respectively."
   ]
  },
  {
   "cell_type": "markdown",
   "metadata": {},
   "source": [
    "#### 1. Hypotheses (two-tailed test)\n",
    "$H_0: p = .5$ (This is a fair coin)\n",
    "\n",
    "$H_a: p \\neq .5$ (This is a biased coin)"
   ]
  },
  {
   "cell_type": "markdown",
   "metadata": {},
   "source": [
    "#### 2. Type I Error, p-value, and Significance Level $\\alpha $ \n",
    "1. Type I Error: Incorrectly reject $H_0$ when $H_0$ is indeed true.\n",
    "    * In our example, Type I error is to conclude that this is a biased coin when indeed it is a fair coin.\n",
    "2. p-value: the probability that we observe a result as extreme as or more extreme than the sampling result.\n",
    "    * The \"extremeness\" is with respect to $H_0$, being far away from $H_0$ as much as possible.\n",
    "    * In our example, if we observe 8 Hs, then the p-value is the prob. we observe at least 8 Hs or at least 8 Ts, assuming $H_0$ is true (this is a fair coin).\n",
    "    * Given a p-value, if we decide to reject $H_0$, then this p-value is the probability we make Type I error.\n",
    "    * Prob(making Type I Error) = Prob(Reject $H_0$ | $H_0$ is true)\n",
    "3. Significance level $\\alpha $ as a decision rule\n",
    "    * $\\alpha $ is the maximum probability of Type I error acceptable to decision maker.\n",
    "    * Recall that p-value is the probability of making Type I error if we reject $H_0$. Thus, if the p-value is greater than alpha, we accept $H_0$; if instead, we rejected $H_0$, the probability of making Type I error, p-value, would be greater than the largest acceptable probability of Type I error, $\\alpha $.\n",
    "    * On the other hand, if p-value is less than $\\alpha $, we should reject $H_0$. As a result, the actual probability of Type I error, p-value, will be smaller than the largest acceptable probability of Type I error, $\\alpha $. \n",
    "    * It is debatable what to do if p-value = $\\alpha $. Luckily, it almost never happens.\n",
    "    "
   ]
  },
  {
   "cell_type": "markdown",
   "metadata": {},
   "source": [
    "#### 3. Compute the p-values associated with observing 8 Hs (X=8), 9 Ts (X=1), and 10 Hs (X=10)\n",
    "1. If X = 8, p-value = P(at least 8 Hs|p = .5) + P(at least 8 Ts|p = .5) = 2P(X $\\geq$ 8|p = .5) = 2(1 - P(X $\\leq$ 7|p = .5)) = 2(1 - binom.cdf(7, 10, 0.5))\n",
    "    * Since this is a two-tailed test, the results as extreme as or more extreme than getting 8 Hs are 8 or more Hs, or 8 or more Ts.\n",
    "2. If X = 1, p-value = P(9 or more Hs|p = .5) + P(9 or more Ts|p = .5) = 2(1 - P(X $\\leq$ 8|p = .5)) = 2(1 - binom.cdf(8, 10, 0.5))\n",
    "3. If X = 10, p-value = P(X = 10|p = .5) + P(X = 0|p = .5) = 2binom.pmf(10, 10, 0.5)"
   ]
  },
  {
   "cell_type": "code",
   "execution_count": 2,
   "metadata": {
    "collapsed": true
   },
   "outputs": [],
   "source": [
    "from scipy.stats import binom"
   ]
  },
  {
   "cell_type": "code",
   "execution_count": 3,
   "metadata": {
    "collapsed": false
   },
   "outputs": [
    {
     "name": "stdout",
     "output_type": "stream",
     "text": [
      "0.109375 0.021484375 0.001953125\n"
     ]
    }
   ],
   "source": [
    "p_value_8H = 2*(1 - binom.cdf(7, 10, 0.5))\n",
    "p_value_9T = 2*(1 - binom.cdf(8, 10, 0.5))\n",
    "p_value_10H = 2*binom.pmf(10, 10, 0.5)\n",
    "print p_value_8H, p_value_9T, p_value_10H"
   ]
  },
  {
   "cell_type": "markdown",
   "metadata": {},
   "source": [
    "##### Summary and Interpretation\n",
    "1. p_value_8H = 0.109375\n",
    "    * If this is a fair coin (p = .5), there is 10.94% chance to observe at least 8 heads or at least 8 tails. Note that the significance level is .05. We accept (or we cannot reject) $H_0$. In other words, we don't have enough evidence to say this is a biased coin.\n",
    "2. p_value_9T = 0.021484375\n",
    "    * If this is a fair coin (p = .5), there is 2.15% chance to observe at least 9 heads or at least 9 tails, which is less than 5%. We thus reject $H_0$ to conclude that this is a biased coin.\n",
    "3. p_value_10H = 0.001953125\n",
    "    * If this is a fair coin (p = .5), there is 0.20% chance to observe at 10 heads or 10 tails, which is less than 5%. We thus reject $H_0$ to conclude that this is a biased coin.\n",
    "4. Summary: if we observe at least 9 heads or 9 tails, we say this is a biased coin at the level of significance of 5%."
   ]
  },
  {
   "cell_type": "markdown",
   "metadata": {},
   "source": [
    "#### 4. Compute the critical value associated with $\\alpha $ = .05.\n",
    "* Let b be this critical value.\n",
    "* Prob(at least b heads or at least b tails) = P(X $\\geq$ b or X $\\leq$ 10 - b) = 0.05\n",
    "* Prob(X $\\geq$ b) = 0.025\n",
    "* Prob(X $\\leq$ b-1) = 0.975\n",
    "* b = 1 + binom.ppf(0.975, 10, 0.5)"
   ]
  },
  {
   "cell_type": "code",
   "execution_count": 4,
   "metadata": {
    "collapsed": false
   },
   "outputs": [
    {
     "data": {
      "text/plain": [
       "9.0"
      ]
     },
     "execution_count": 4,
     "metadata": {},
     "output_type": "execute_result"
    }
   ],
   "source": [
    " 1 + binom.ppf(0.975, 10, 0.5)"
   ]
  },
  {
   "cell_type": "markdown",
   "metadata": {},
   "source": [
    "#### 5. Calculate the probability of making Type II error $\\beta $ given p = .6, .7 and .8, respectively.\n",
    "Probability of Type II error is always computed for a given siginficance level.\n",
    "* $\\beta $ = Prob(Type II error) = Prob(accept $H_0 | H_0$ is false)\n",
    "* $\\beta $ = Prob(conclude fair coin | $p \\neq .5$)\n",
    "* $\\beta $ = Prob(at most 8 Hs and at most 8 Ts | $p = .6$)\n",
    "* $\\beta $ = 1 - Prob(9Hs or 10Hs or 9Ts or 10Ts | $p = .6$)\n",
    "* $\\beta $ = 1 - binom.pmf(9, 10, 0.6) - binom.pmf(10, 10, 0.6) - binom.pmf(1, 10, 0.6) - binom.pmf(0, 10, 0.6)\n",
    "* $\\beta $ = 1 - binom.pmf(9, 10, 0.7) - binom.pmf(10, 10, 0.7) - binom.pmf(1, 10, 0.7) - binom.pmf(0, 10, 0.7) # for p = .7\n",
    "* $\\beta $ = 1 - binom.pmf(9, 10, 0.8) - binom.pmf(10, 10, 0.8) - binom.pmf(1, 10, 0.8) - binom.pmf(0, 10, 0.8) # for p = .8"
   ]
  },
  {
   "cell_type": "code",
   "execution_count": 5,
   "metadata": {
    "collapsed": false
   },
   "outputs": [
    {
     "data": {
      "text/plain": [
       "0.95196487679999997"
      ]
     },
     "execution_count": 5,
     "metadata": {},
     "output_type": "execute_result"
    }
   ],
   "source": [
    "# Probability of Type II error when $\\alpha$ = .05, p = .6 and n = 10\n",
    "1 - binom.pmf(9, 10, 0.6) - binom.pmf(10, 10, 0.6) - binom.pmf(1, 10, 0.6) - binom.pmf(0, 10, 0.6)"
   ]
  },
  {
   "cell_type": "code",
   "execution_count": 6,
   "metadata": {
    "collapsed": false
   },
   "outputs": [
    {
     "data": {
      "text/plain": [
       "0.85054796820000012"
      ]
     },
     "execution_count": 6,
     "metadata": {},
     "output_type": "execute_result"
    }
   ],
   "source": [
    "# Probability of Type II error when $\\alpha$ = .05, p = .7 and n = 10\n",
    "1 - binom.pmf(9, 10, 0.7) - binom.pmf(10, 10, 0.7) - binom.pmf(1, 10, 0.7) - binom.pmf(0, 10, 0.7)"
   ]
  },
  {
   "cell_type": "code",
   "execution_count": 7,
   "metadata": {
    "collapsed": false
   },
   "outputs": [
    {
     "data": {
      "text/plain": [
       "0.62418616319999964"
      ]
     },
     "execution_count": 7,
     "metadata": {},
     "output_type": "execute_result"
    }
   ],
   "source": [
    "# Probability of Type II error when $\\alpha$ = .05, p = .8 and n = 10\n",
    "1 - binom.pmf(9, 10, 0.8) - binom.pmf(10, 10, 0.8) - binom.pmf(1, 10, 0.8) - binom.pmf(0, 10, 0.8)"
   ]
  },
  {
   "cell_type": "markdown",
   "metadata": {},
   "source": [
    "#### 6. Suppose $\\alpha$ = .01. Recalculate the probability of making Type II error $\\beta$ given p = .6, .7 and .8, respectively.\n",
    "* According to p-values calculated in Part 3, if $\\alpha$ = .01, we reject $H_0$ iff we observe 10 Hs or 10 Ts.\n",
    "* $\\beta $ = Prob(Type II error) = Prob(accept $H_0 | H_0$ is false)\n",
    "* $\\beta $ = Prob(conclude fair coin | $p \\neq .5$)\n",
    "* $\\beta $ = Prob(at most 9 Hs and at most 9 Ts | $p = .6$)\n",
    "* $\\beta $ = 1 - Prob(10Hs or 10Ts | $p = .6$)\n",
    "* $\\beta $ = 1 - binom.pmf(10, 10, 0.6) - binom.pmf(0, 10, 0.6)\n",
    "* $\\beta $ = 1 - binom.pmf(10, 10, 0.7) - binom.pmf(0, 10, 0.7) # for p = .7\n",
    "* $\\beta $ = 1 - binom.pmf(10, 10, 0.8) - binom.pmf(0, 10, 0.8) # for p = .8"
   ]
  },
  {
   "cell_type": "code",
   "execution_count": 8,
   "metadata": {
    "collapsed": false
   },
   "outputs": [
    {
     "data": {
      "text/plain": [
       "0.99384852479999997"
      ]
     },
     "execution_count": 8,
     "metadata": {},
     "output_type": "execute_result"
    }
   ],
   "source": [
    "# Probability of Type II error when $\\alpha$ = .01, p = .6 and n = 10\n",
    "1 - binom.pmf(10, 10, 0.6) - binom.pmf(0, 10, 0.6)"
   ]
  },
  {
   "cell_type": "code",
   "execution_count": 9,
   "metadata": {
    "collapsed": false
   },
   "outputs": [
    {
     "data": {
      "text/plain": [
       "0.9717465702000001"
      ]
     },
     "execution_count": 9,
     "metadata": {},
     "output_type": "execute_result"
    }
   ],
   "source": [
    "# Probability of Type II error when $\\alpha$ = .01, p = .7 and n = 10\n",
    "1 - binom.pmf(10, 10, 0.7) - binom.pmf(0, 10, 0.7)"
   ]
  },
  {
   "cell_type": "code",
   "execution_count": 10,
   "metadata": {
    "collapsed": false
   },
   "outputs": [
    {
     "data": {
      "text/plain": [
       "0.89262571519999989"
      ]
     },
     "execution_count": 10,
     "metadata": {},
     "output_type": "execute_result"
    }
   ],
   "source": [
    "# Probability of Type II error when $\\alpha$ = .01, p = .8 and n = 10\n",
    "1 - binom.pmf(10, 10, 0.8) - binom.pmf(0, 10, 0.8)"
   ]
  },
  {
   "cell_type": "markdown",
   "metadata": {},
   "source": [
    "Summary: there exists tradeoff between $\\alpha$ and $\\beta$. If we tolerate less Type I error, we pay a price for higher Type II error, vice versa."
   ]
  },
  {
   "cell_type": "markdown",
   "metadata": {},
   "source": [
    "#### 7. Suppose we flip the same coin 100 times. $\\alpha $ = .05 or .01, respectively. Recalculate the probability of making Type II error $\\beta$ given p = .6, .7 and .8, respectively.\n",
    "* Let b be this critical value.\n",
    "* Prob(at least b heads or at least b tails) = 0.05 for $\\alpha $ = .05\n",
    "* Prob(at least b heads) = 0.025\n",
    "* Prob(at most b-1 heads) = 0.975\n",
    "* b = 1 + binom.ppf(0.975, 100, 0.5)\n",
    "* b = 1 + binom.ppf(0.995, 100, 0.5) # $\\alpha $ = .01"
   ]
  },
  {
   "cell_type": "code",
   "execution_count": 11,
   "metadata": {
    "collapsed": false
   },
   "outputs": [
    {
     "data": {
      "text/plain": [
       "61.0"
      ]
     },
     "execution_count": 11,
     "metadata": {},
     "output_type": "execute_result"
    }
   ],
   "source": [
    "# critical value for $\\alpha$ = 0.05\n",
    "# that is, prob(X $\\geq$ b) = 0.05\n",
    "1 + binom.ppf(0.975, 100, 0.5)"
   ]
  },
  {
   "cell_type": "markdown",
   "metadata": {},
   "source": [
    "Given $\\alpha$ = .05, if we observe at least 61 heads or tails out of 100 coin tosses, we conclude that this is a biased coin."
   ]
  },
  {
   "cell_type": "code",
   "execution_count": 12,
   "metadata": {
    "collapsed": false
   },
   "outputs": [
    {
     "data": {
      "text/plain": [
       "64.0"
      ]
     },
     "execution_count": 12,
     "metadata": {},
     "output_type": "execute_result"
    }
   ],
   "source": [
    "# critical value for $\\alpha$ = 0.01\n",
    "# that is, prob(X $\\geq$ b) = 0.01\n",
    "1 + binom.ppf(0.995, 100, 0.5)"
   ]
  },
  {
   "cell_type": "markdown",
   "metadata": {},
   "source": [
    "Given $\\alpha$ = .01, if we observe at least 64 heads or tails out of 100 coin tosses, we conclude that this is a biased coin."
   ]
  },
  {
   "cell_type": "markdown",
   "metadata": {},
   "source": [
    "##### Compute p-values for $\\alpha$ = .05, n = 100, and p = .6, .7, or .8\n",
    "* $\\beta $ = Prob(conclude fair coin | $p \\neq .5$)\n",
    "* $\\beta $ = Prob(at most 60 Hs and at most 60 Ts | $p = .6$) = Prob(40 $\\leq$ X $\\leq$ 60 | $p = .6$)\n",
    "* $\\beta $ = binom.cdf(60, 100, 0.6) - binom.cdf(39, 100, 0.6)\n",
    "* $\\beta $ = binom.cdf(60, 100, 0.7) - binom.cdf(39, 100, 0.7) # for p = .7\n",
    "* $\\beta $ = binom.cdf(60, 100, 0.8) - binom.cdf(39, 100, 0.8) # for p = .8"
   ]
  },
  {
   "cell_type": "code",
   "execution_count": 13,
   "metadata": {
    "collapsed": false
   },
   "outputs": [
    {
     "data": {
      "text/plain": [
       "0.53790661765160519"
      ]
     },
     "execution_count": 13,
     "metadata": {},
     "output_type": "execute_result"
    }
   ],
   "source": [
    "# Probability of Type II error when $\\alpha$ = .05, p = .6 and n = 100\n",
    "binom.cdf(60, 100, 0.6) - binom.cdf(39, 100, 0.6)"
   ]
  },
  {
   "cell_type": "code",
   "execution_count": 14,
   "metadata": {
    "collapsed": false
   },
   "outputs": [
    {
     "data": {
      "text/plain": [
       "0.020988575861935466"
      ]
     },
     "execution_count": 14,
     "metadata": {},
     "output_type": "execute_result"
    }
   ],
   "source": [
    "# Probability of Type II error when $\\alpha$ = .05, p = .7 and n = 100\n",
    "binom.cdf(60, 100, 0.7) - binom.cdf(39, 100, 0.7)"
   ]
  },
  {
   "cell_type": "code",
   "execution_count": 15,
   "metadata": {
    "collapsed": false
   },
   "outputs": [
    {
     "data": {
      "text/plain": [
       "3.6084201146404314e-06"
      ]
     },
     "execution_count": 15,
     "metadata": {},
     "output_type": "execute_result"
    }
   ],
   "source": [
    "# Probability of Type II error when $\\alpha$ = .05, p = .8 and n = 100\n",
    "binom.cdf(60, 100, 0.8) - binom.cdf(39, 100, 0.8)"
   ]
  },
  {
   "cell_type": "code",
   "execution_count": 16,
   "metadata": {
    "collapsed": false
   },
   "outputs": [
    {
     "data": {
      "text/plain": [
       "0.76138819993668172"
      ]
     },
     "execution_count": 16,
     "metadata": {},
     "output_type": "execute_result"
    }
   ],
   "source": [
    "# Probability of Type II error when $\\alpha$ = .01, p = .6 and n = 100\n",
    "binom.cdf(63, 100, 0.6) - binom.cdf(36, 100, 0.6)"
   ]
  },
  {
   "cell_type": "code",
   "execution_count": 17,
   "metadata": {
    "collapsed": false
   },
   "outputs": [
    {
     "data": {
      "text/plain": [
       "0.079880042291379585"
      ]
     },
     "execution_count": 17,
     "metadata": {},
     "output_type": "execute_result"
    }
   ],
   "source": [
    "# Probability of Type II error when $\\alpha$ = .01, p = .7 and n = 100\n",
    "binom.cdf(63, 100, 0.7) - binom.cdf(36, 100, 0.7)"
   ]
  },
  {
   "cell_type": "code",
   "execution_count": 18,
   "metadata": {
    "collapsed": false
   },
   "outputs": [
    {
     "data": {
      "text/plain": [
       "6.1851740400614206e-05"
      ]
     },
     "execution_count": 18,
     "metadata": {},
     "output_type": "execute_result"
    }
   ],
   "source": [
    "# Probability of Type II error when $\\alpha$ = .01, p = .8 and n = 100\n",
    "binom.cdf(63, 100, 0.8) - binom.cdf(36, 100, 0.8)"
   ]
  },
  {
   "cell_type": "markdown",
   "metadata": {},
   "source": [
    "Summary\n",
    "* When we increase the sample size, we can reduce both $\\alpha$ and $\\beta$.\n",
    "\n",
    "\n",
    "|        | $\\alpha$ = .05, n = 10 | $\\alpha$ = .01, n = 100|\n",
    "|:-------|:----------------------:|:----------------------:|\n",
    "| p = .6 | $\\beta$ = 0.951965     | $\\beta$ = 0.761392     |\n",
    "| p = .7 | $\\beta$ = 0.850548     | $\\beta$ = 0.079880     |\n",
    "| p = .8 | $\\beta$ = 0.624186     | $\\beta$ = 0.000062     |\n",
    "\n",
    "\n",
    "\n"
   ]
  },
  {
   "cell_type": "code",
   "execution_count": null,
   "metadata": {
    "collapsed": true
   },
   "outputs": [],
   "source": []
  }
 ],
 "metadata": {
  "kernelspec": {
   "display_name": "Python 2",
   "language": "python",
   "name": "python2"
  },
  "language_info": {
   "codemirror_mode": {
    "name": "ipython",
    "version": 2
   },
   "file_extension": ".py",
   "mimetype": "text/x-python",
   "name": "python",
   "nbconvert_exporter": "python",
   "pygments_lexer": "ipython2",
   "version": "2.7.11"
  }
 },
 "nbformat": 4,
 "nbformat_minor": 0
}
