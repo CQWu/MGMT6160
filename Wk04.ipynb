{
 "cells": [
  {
   "cell_type": "markdown",
   "metadata": {},
   "source": [
    "## Random Variables and Probability Distributions\n",
    "1. Random variables\n",
    "    * Discrete RV\n",
    "    * Continuous RV\n",
    "2. Discrete Probability Distribution\n",
    "    * pmf (probability mass function)\n",
    "    * cdf (cumulative distribution function)\n",
    "    * Expected value/expectation and Variance\n",
    "3. Continuous Probability Distribution\n",
    "    * pdf (probability density function) and cdf = Prob(X<= a) = F(a)\n",
    "    * Expectation and variance (need knowledge of integral)\n"
   ]
  },
  {
   "cell_type": "markdown",
   "metadata": {},
   "source": [
    "### Example on Basics of Probability Distribution\n",
    "1. Experiment: roll two fair, six-sided dice.\n",
    "    * What is the sample space?\n",
    "2. Let X be the sum of the two resulting numbers. \n",
    "    * What is the probability mass function (pmf) of X? Note that pmf only applies to discrete RVs.\n",
    "    * What is cumulative distribution function (cdf) of X? Typically, cdf is written as F(a) = P(X <= a)\n",
    "    * What is the expectation of X, or E(X)?\n",
    "    * What is the variance of X, or Var(X)?\n",
    "    * What is the standard deviation of X?\n",
    "\n"
   ]
  },
  {
   "cell_type": "markdown",
   "metadata": {},
   "source": [
    "### Some Properties of Expectation and Variance of RVs\n",
    "Let X and Y be RVs; a, b and c are constants\n",
    "    1. E(aX + bY + c) = aE(X) + bE(Y) + c\n",
    "    2. If X and Y are independent, then E(XY) = E(X)*E*Y)\n",
    "    3. Var(aX) = a^2*Var(X)\n",
    "    4. If X and Y are independent, then Var(aX + bY) = a2*Var(X) + b2*Var(Y)\n"
   ]
  },
  {
   "cell_type": "markdown",
   "metadata": {},
   "source": [
    "### Binomial Distribution\n",
    "1. Properties of Binomial Experiment\n",
    "    * The experiment consists of a sequence of n identical trials.\n",
    "    * Two outcomes are possible on each trial. We refer to one outcome as a suc cess and the other outcome as a failure.\n",
    "    * The probability of a success, denoted by p, does not change from trial to trial. Consequently, the probability of a failure, denoted by 1-p, does not change from trial to trial.\n",
    "    * The trials are independent.\n",
    "2. Note\n",
    "    * If n = 1, then it is also called Bernoulli or binary distribution.\n",
    "    * Therefore, binomial experiment can be considered as the sum of n identical and independent Bernoulli experiments.\n",
    "3. If X is a binomial RV, E(X) = np; Var(X) = np(1-p)\n"
   ]
  },
  {
   "cell_type": "markdown",
   "metadata": {},
   "source": [
    "### Binomial Distribution Example\n",
    "###### In San Francisco, 30% of workers take public transportation daily. Take a random sample of 4 workers. Let X be the number of workers taking public transportation out of these 4 workers.\n",
    "1. Develop pmf for X, i.e., f(x) = ?\n",
    "2. Develop cdf for X, i.e., F(x) = ?\n",
    "3. What is the probability at exactly 3 workers take public transportation?\n",
    "4. What is the probability that at least 3 workers take public transportation?\n",
    "5. What is the probability that at most 3 workers take public transportation?\n",
    "6. What is the expected number of workers taking public transportation?\n",
    "7. What is the variance and what is the standard deviation?\n"
   ]
  },
  {
   "cell_type": "markdown",
   "metadata": {},
   "source": [
    "### Normal Distribution\n",
    "###### Let X be a normally distributed RV with mean mu and standard deviation sigma. Then the new RV z = (X - mu)/sigma follows a standard normal distribution with mean = 0 and standard deviation = 1."
   ]
  },
  {
   "cell_type": "markdown",
   "metadata": {},
   "source": [
    "### Normal Distribution Example\n",
    "For borrowers with good credit scores, the mean debt for revolving and installment accounts is 15,015. Assume the standard deviation is 3540 and that debt amounts are normally distributed.\n",
    "1. What is the probability that the debt for a borrower with good credit is more than 18,000?\n",
    "2. What is the probability that the debt for a borrower with good credit is less than 10,000?\n",
    "3. What is the probability that the debt for a borrower with good credit is between 12,000 and 18,000?\n",
    "4. What is the probability that the debt for a borrower with good credit is no more than 14,000?\n",
    "5. If a borrower is in the 85th percentile, what is the debt for this borrower?\n"
   ]
  },
  {
   "cell_type": "code",
   "execution_count": null,
   "metadata": {
    "collapsed": true
   },
   "outputs": [],
   "source": []
  }
 ],
 "metadata": {
  "kernelspec": {
   "display_name": "Python 2",
   "language": "python",
   "name": "python2"
  },
  "language_info": {
   "codemirror_mode": {
    "name": "ipython",
    "version": 2
   },
   "file_extension": ".py",
   "mimetype": "text/x-python",
   "name": "python",
   "nbconvert_exporter": "python",
   "pygments_lexer": "ipython2",
   "version": "2.7.11"
  }
 },
 "nbformat": 4,
 "nbformat_minor": 0
}
