{
 "cells": [
  {
   "cell_type": "code",
   "execution_count": 1,
   "metadata": {
    "collapsed": true
   },
   "outputs": [],
   "source": [
    "from scipy.stats import norm, t"
   ]
  },
  {
   "cell_type": "code",
   "execution_count": 2,
   "metadata": {
    "collapsed": true
   },
   "outputs": [],
   "source": [
    "def se_for_two_means(s1, s2, n1, n2):\n",
    "    return pow(s1*s1/n1 + s2*s2/n2, 0.5)"
   ]
  },
  {
   "cell_type": "code",
   "execution_count": 3,
   "metadata": {
    "collapsed": true
   },
   "outputs": [],
   "source": [
    "def se_for_two_proportions(p1, p2, n1, n2):\n",
    "    return pow(p1*(1-p1)/n1 + p2*(1-p2)/n2, 0.5)"
   ]
  },
  {
   "cell_type": "code",
   "execution_count": 4,
   "metadata": {
    "collapsed": true
   },
   "outputs": [],
   "source": [
    "def df_for_two_means(s1, s2, n1, n2):\n",
    "    numerator = float((s1**2/n1 + s2**2/n2)**2)\n",
    "    denominator = (s1**2/n1)**2/(n1-1) + (s2**2/n2)**2/(n2-1)\n",
    "    return numerator/denominator"
   ]
  },
  {
   "cell_type": "markdown",
   "metadata": {},
   "source": [
    "## Cruise Ship Rating Example"
   ]
  },
  {
   "cell_type": "markdown",
   "metadata": {},
   "source": [
    "#### population 1: ships that carry fewer than 500 passengers\n",
    "$\\bar{X}_1$ = 85.36, n1 = 37, $\\sigma_1$ = 4.55\n",
    "\n",
    "#### population 1: ships that carry fewer than 500 passengers\n",
    "$\\bar{X}_2$ = 81.40, n2 = 44, $\\sigma_2$ = 3.97"
   ]
  },
  {
   "cell_type": "code",
   "execution_count": 5,
   "metadata": {
    "collapsed": false
   },
   "outputs": [],
   "source": [
    "x1 = 85.36; n1 = 37; s1 = 4.55; x2 = 81.40; n2 = 44; s2 = 3.97; alpha = 0.05"
   ]
  },
  {
   "cell_type": "code",
   "execution_count": 6,
   "metadata": {
    "collapsed": false
   },
   "outputs": [
    {
     "name": "stdout",
     "output_type": "stream",
     "text": [
      "0.957981889053 1.95996398454 1.87761000039\n"
     ]
    }
   ],
   "source": [
    "SE = se_for_two_means(s1, s2, n1, n2)\n",
    "crit_z = norm.ppf(1 - alpha/2)\n",
    "MOE = crit_z*SE\n",
    "print SE, crit_z, MOE"
   ]
  },
  {
   "cell_type": "code",
   "execution_count": 7,
   "metadata": {
    "collapsed": false
   },
   "outputs": [
    {
     "data": {
      "text/plain": [
       "[2.0823899996137056, 5.8376100003862819]"
      ]
     },
     "execution_count": 7,
     "metadata": {},
     "output_type": "execute_result"
    }
   ],
   "source": [
    "[x1-x2 - MOE, x1-x2 +MOE]"
   ]
  },
  {
   "cell_type": "markdown",
   "metadata": {},
   "source": [
    "#### Suppose we want to test whether small cruise ships have better rating than large cruise ships.\n",
    "$H_0: \\mu_1 - \\mu_2 \\leq 0$\n",
    "\n",
    "$H_1: \\mu_1 - \\mu_2 > 0$"
   ]
  },
  {
   "cell_type": "code",
   "execution_count": 8,
   "metadata": {
    "collapsed": false
   },
   "outputs": [
    {
     "name": "stdout",
     "output_type": "stream",
     "text": [
      "4.13368983824 1.78492582694e-05\n"
     ]
    }
   ],
   "source": [
    "z = (x1-x2)/SE\n",
    "p_value = 1 - norm.cdf(z)\n",
    "print z, p_value"
   ]
  },
  {
   "cell_type": "markdown",
   "metadata": {},
   "source": [
    "## Commute Distance Example"
   ]
  },
  {
   "cell_type": "code",
   "execution_count": 9,
   "metadata": {
    "collapsed": true
   },
   "outputs": [],
   "source": [
    "x1 = 22.5; n1 = 50; s1 = 8.4; x2 = 18.6; n2 = 40; s2 = 7.4; alpha = 0.05"
   ]
  },
  {
   "cell_type": "code",
   "execution_count": 10,
   "metadata": {
    "collapsed": false
   },
   "outputs": [
    {
     "name": "stdout",
     "output_type": "stream",
     "text": [
      "1.66739317499 87.1441817401 1.98756191451 3.31404717113\n"
     ]
    }
   ],
   "source": [
    "SE = se_for_two_means(s1, s2, n1, n2)\n",
    "df = df_for_two_means(s1, s2, n1, n2)\n",
    "t = t.ppf(1 - alpha/2, df)\n",
    "MOE = t*SE\n",
    "print SE, df, t, MOE"
   ]
  },
  {
   "cell_type": "code",
   "execution_count": 11,
   "metadata": {
    "collapsed": false
   },
   "outputs": [
    {
     "data": {
      "text/plain": [
       "[0.58595282887375699, 7.2140471711262402]"
      ]
     },
     "execution_count": 11,
     "metadata": {},
     "output_type": "execute_result"
    }
   ],
   "source": [
    "[x1-x2 - MOE, x1-x2 +MOE]"
   ]
  },
  {
   "cell_type": "markdown",
   "metadata": {},
   "source": [
    "## PGA 6-foot Putt Example"
   ]
  },
  {
   "cell_type": "code",
   "execution_count": 12,
   "metadata": {
    "collapsed": false
   },
   "outputs": [
    {
     "name": "stdout",
     "output_type": "stream",
     "text": [
      "0.64 0.58\n"
     ]
    }
   ],
   "source": [
    "p1 = 688./1075; n1 = 1075; p2 = 696./1200; n2 = 1200; alpha = 0.05\n",
    "print p1, p2"
   ]
  },
  {
   "cell_type": "code",
   "execution_count": 13,
   "metadata": {
    "collapsed": false
   },
   "outputs": [
    {
     "name": "stdout",
     "output_type": "stream",
     "text": [
      "1.95996398454 0.020428548196 0.0400392187206\n"
     ]
    }
   ],
   "source": [
    "z = norm.ppf(1-alpha/2)\n",
    "SE = se_for_two_proportions(p1, p2, n1, n2)\n",
    "MOE = z*SE\n",
    "print z, SE, MOE"
   ]
  },
  {
   "cell_type": "code",
   "execution_count": 14,
   "metadata": {
    "collapsed": false
   },
   "outputs": [
    {
     "data": {
      "text/plain": [
       "[0.019960781279444742, 0.10003921872055536]"
      ]
     },
     "execution_count": 14,
     "metadata": {},
     "output_type": "execute_result"
    }
   ],
   "source": [
    "[p1-p2 - MOE, p1-p2+MOE]"
   ]
  },
  {
   "cell_type": "code",
   "execution_count": null,
   "metadata": {
    "collapsed": true
   },
   "outputs": [],
   "source": []
  }
 ],
 "metadata": {
  "kernelspec": {
   "display_name": "Python 2",
   "language": "python",
   "name": "python2"
  },
  "language_info": {
   "codemirror_mode": {
    "name": "ipython",
    "version": 2
   },
   "file_extension": ".py",
   "mimetype": "text/x-python",
   "name": "python",
   "nbconvert_exporter": "python",
   "pygments_lexer": "ipython2",
   "version": "2.7.11"
  }
 },
 "nbformat": 4,
 "nbformat_minor": 0
}
