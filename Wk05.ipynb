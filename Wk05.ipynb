{
 "cells": [
  {
   "cell_type": "markdown",
   "metadata": {},
   "source": [
    "## Week 5"
   ]
  },
  {
   "cell_type": "code",
   "execution_count": 1,
   "metadata": {
    "collapsed": true
   },
   "outputs": [],
   "source": [
    "import numpy as np\n",
    "import matplotlib.pyplot as plt\n"
   ]
  },
  {
   "cell_type": "code",
   "execution_count": 2,
   "metadata": {
    "collapsed": false
   },
   "outputs": [
    {
     "data": {
      "text/plain": [
       "array([[1, 1, 3, 1, 4, 6],\n",
       "       [5, 3, 3, 4, 5, 2],\n",
       "       [5, 5, 3, 1, 6, 6]])"
      ]
     },
     "execution_count": 2,
     "metadata": {},
     "output_type": "execute_result"
    }
   ],
   "source": [
    "np.random.choice([1,2,3,4,5,6], size=(3, 6))"
   ]
  },
  {
   "cell_type": "code",
   "execution_count": 3,
   "metadata": {
    "collapsed": false
   },
   "outputs": [],
   "source": [
    "num_of_dice = 100\n",
    "num_of_rep = 10000\n",
    "sample=np.random.choice([1,2,3,4,5,6], size=(num_of_rep, num_of_dice))"
   ]
  },
  {
   "cell_type": "code",
   "execution_count": 4,
   "metadata": {
    "collapsed": true
   },
   "outputs": [],
   "source": [
    "sigma = (35/12.)**0.5\n",
    "standard_error = sigma/(num_of_dice**0.5)"
   ]
  },
  {
   "cell_type": "code",
   "execution_count": 5,
   "metadata": {
    "collapsed": false
   },
   "outputs": [
    {
     "name": "stdout",
     "output_type": "stream",
     "text": [
      "grand mean is 3.498959\n",
      "standard deviation of sampling distribution of sample mean is 0.167182060351\n",
      "standard error derived from CLT is 0.170782512766\n"
     ]
    }
   ],
   "source": [
    "sample_mean = np.mean(sample, axis=1)\n",
    "grand_mean = np.mean(sample_mean)\n",
    "sd_sample_mean = np.std(sample_mean, ddof=1)\n",
    "print 'grand mean is', grand_mean\n",
    "print 'standard deviation of sampling distribution of sample mean is', sd_sample_mean\n",
    "print 'standard error derived from CLT is', standard_error"
   ]
  },
  {
   "cell_type": "code",
   "execution_count": 6,
   "metadata": {
    "collapsed": false
   },
   "outputs": [
    {
     "data": {
      "image/png": "[encoded data removed]",
      "text/plain": [
       "<matplotlib.figure.Figure at 0x10eabc790>"
      ]
     },
     "metadata": {},
     "output_type": "display_data"
    }
   ],
   "source": [
    "num_of_bins = 200\n",
    "%matplotlib inline\n",
    "plt.hist(sample_mean, num_of_bins, normed=1, color='m')\n",
    "plt.title('Histogram for Central Limit Theorem')\n",
    "plt.xlabel('Sample Mean')\n",
    "plt.ylabel('Probability')\n",
    "plt.show()"
   ]
  },
  {
   "cell_type": "code",
   "execution_count": null,
   "metadata": {
    "collapsed": true
   },
   "outputs": [],
   "source": []
  }
 ],
 "metadata": {
  "kernelspec": {
   "display_name": "Python 2",
   "language": "python",
   "name": "python2"
  },
  "language_info": {
   "codemirror_mode": {
    "name": "ipython",
    "version": 2
   },
   "file_extension": ".py",
   "mimetype": "text/x-python",
   "name": "python",
   "nbconvert_exporter": "python",
   "pygments_lexer": "ipython2",
   "version": "2.7.11"
  }
 },
 "nbformat": 4,
 "nbformat_minor": 0
}
