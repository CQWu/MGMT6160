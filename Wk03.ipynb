{
 "cells": [
  {
   "cell_type": "markdown",
   "metadata": {},
   "source": [
    "## Week 3: Probability\n",
    "1. Quiz 3 on Descriptive Statistics - 40 minutes\n",
    "2. Grade Quiz 2 Python Basics\n",
    "3. Lecture, Discussion and Exercise on Probability (Ch4)"
   ]
  },
  {
   "cell_type": "markdown",
   "metadata": {},
   "source": [
    "### Grade Quiz 2\n",
    "1. After you complete Quiz 3, please pick up a copy of Quiz 2.\n",
    "2. Run each line of code in the quiz and write down the correct answer with a pen of different color.\n",
    "3. Count the number of correct answers and write down this number at upper left corner of the quiz.\n",
    "4. Return the quiz to the instructor."
   ]
  },
  {
   "cell_type": "markdown",
   "metadata": {},
   "source": [
    "#### Tips for Grading Quiz 2 - Python Basics\n",
    "1. Feel free to use any Python IDE you are comfortable with.\n",
    "2. If you have Anaconda or some other Python distributions installed, you can lauch IPython notebook by typing 'ipython notebook\" in command line (Command Prompt or cmd on PC and Terminal in Mac).\n",
    "2. Keep in mind that WITHIN each problem (a through f), commands are executed SEQUENTIALLY. Therefore, commands executed earlier may affect the output of later commands.\n",
    "3. Each problem (a through f) has nothing to do with any other problem."
   ]
  },
  {
   "cell_type": "markdown",
   "metadata": {},
   "source": [
    "## Lecture: Introduction to Probability"
   ]
  },
  {
   "cell_type": "markdown",
   "metadata": {},
   "source": [
    "### Experiments, Counting Rules, and Assigning Probabilities\n",
    "1. Experiment, Experimental Outcomes, and Sample Space\n",
    "2. Counting Rules, Combinations and Permutations\n",
    "    * Multiplication counting rule (for multi-step experiments)\n",
    "    * Combinations\n",
    "    * Permutations\n",
    "3. Assigning Probabilities\n",
    "    * Basic requirements for assignment probabilities\n",
    "    * Classic method: Naïve definition of probability for experiments with equally likely outcomes\n",
    "    * Relative frequency method\n",
    "    * Subjective"
   ]
  },
  {
   "cell_type": "markdown",
   "metadata": {},
   "source": [
    "### Example\n",
    "1. The Powerball lottery is played twice each week in many states. To play Powerball a participant must purchase a ticket and then select five numbers from the digits 1 through 55 and a Powerball number from the digits 1 through 42. To determine the winning numbers for each game, lottery officials draw five white balls out of a drum with 55 white balls, and one red ball out of a drum with 42 red balls. To win the jackpot, a participant’s numbers must match the numbers on the five white balls in any order and the number on the red Powerball. A variety of other cash prizes are awarded. For instance, a prize of 200K is paid if the participant’s five numbers match the numbers on the five white balls. \n",
    "2. Compute the number of ways the first five numbers can be selected.\n",
    "3. What is the probability of winning a prize of 200K by matching the numbers on the five white balls?\n",
    "4. What is the probability of winning the Powerball jackpot?\n"
   ]
  },
  {
   "cell_type": "code",
   "execution_count": 6,
   "metadata": {
    "collapsed": true
   },
   "outputs": [],
   "source": [
    "from MGMT6160_aw7633 import *"
   ]
  },
  {
   "cell_type": "markdown",
   "metadata": {},
   "source": [
    "### Choose 5 numbers out of 1-55"
   ]
  },
  {
   "cell_type": "code",
   "execution_count": 7,
   "metadata": {
    "collapsed": false
   },
   "outputs": [
    {
     "data": {
      "text/plain": [
       "3478761L"
      ]
     },
     "execution_count": 7,
     "metadata": {},
     "output_type": "execute_result"
    }
   ],
   "source": [
    "combination(55,5)"
   ]
  },
  {
   "cell_type": "markdown",
   "metadata": {},
   "source": [
    "### Probability of matching these five numbers"
   ]
  },
  {
   "cell_type": "code",
   "execution_count": 8,
   "metadata": {
    "collapsed": false
   },
   "outputs": [
    {
     "data": {
      "text/plain": [
       "2.874586670369134e-07"
      ]
     },
     "execution_count": 8,
     "metadata": {},
     "output_type": "execute_result"
    }
   ],
   "source": [
    "1./combination(55,5)"
   ]
  },
  {
   "cell_type": "markdown",
   "metadata": {},
   "source": [
    "### Probability of winning Powerball. Powerball number is chosen from 1-42."
   ]
  },
  {
   "cell_type": "code",
   "execution_count": 9,
   "metadata": {
    "collapsed": false
   },
   "outputs": [
    {
     "data": {
      "text/plain": [
       "6.844253977069367e-09"
      ]
     },
     "execution_count": 9,
     "metadata": {},
     "output_type": "execute_result"
    }
   ],
   "source": [
    "1./combination(55,5)*1/42"
   ]
  },
  {
   "cell_type": "markdown",
   "metadata": {},
   "source": [
    "### Events and Their Probabilities\n",
    "1. Event\n",
    "2. Complement of an event\n",
    "3. Addition law\n",
    "    * union of events A and B\n",
    "    * Intersection of events A and B\n",
    "4. Mutually exclusive events\n",
    "5. Mutually exclusive and exhaustive events"
   ]
  },
  {
   "cell_type": "markdown",
   "metadata": {},
   "source": [
    "### Example\n",
    "1. Consider the experiment of rolling a fair six-sided dice.\n",
    "2. Define A = {even numbers}; B = {numbers >=4}; C = {numbers > 4}\n",
    "3. P(A) = 1/2; P(B) = 1/2; P(C) = 1/3\n",
    "4. P(A and B) = ? P(A or B) = ? P(A and C) = ?\n",
    "5. P(A|B) = ? P(A|C) = ?\n",
    "6. Are A and B independent? Why or why not?\n",
    "7. Are A and C independent? Why or why not?"
   ]
  },
  {
   "cell_type": "markdown",
   "metadata": {},
   "source": [
    "### Conditional Probability\n",
    "1. Conditional probability definition\n",
    "    *Joint Probability Table: joint probabilities and marginal probabilities\n",
    "2. Independent events\n",
    "3. Multiplication Law of probability\n",
    "4. Multiplication Law for independent events\n"
   ]
  },
  {
   "cell_type": "markdown",
   "metadata": {},
   "source": [
    "### Example\n",
    "1. A Morgan Stanley Consumer Research Survey sampled men and women and asked each whether they preferred to drink plain bottled water or a sports drink such as Gatorade or Propel Fitness water. Suppose 200 men and 200 women participated in the study, and 280 reported they preferred plain bottled water. Of the group preferring a sports drink, 80 were men and 40 were women.\n",
    "2. M = the event the consumer is a man; W = the event the consumer is a woman; B = the event the consumer preferred plain bottled water; S = the event the consumer preferred sports drink\n",
    "3. P(M|S) = 2/3; P(W|S) = 1/3; P(M|B) = 3/7; P(W|B) = 4/7\n",
    "4. P(MS) = 1/5; P(WS) = 1/10; P(MB) = 3/10; P(WB) = 4/10\n",
    "5. Create a joint probability table.\n",
    "6. What is the probability a person in the study preferred plain bottled water?\n",
    "7. What is the probability a person in the study preferred a sports drink?\n",
    "8. Given a consumer is a man, what is the probability he will prefer a sports drink?\n",
    "9. Given a consumer is a woman, what is the probability she will prefer a sports drink?\n",
    "10. Is preference for a sports drink independent of whether the consumer is a man or a woman? Explain using probability information.\n",
    "11. Bayes Theorem"
   ]
  },
  {
   "cell_type": "markdown",
   "metadata": {},
   "source": [
    "### More Exercise/Example\n",
    "1. A local bank reviewed its credit card policy with the intention of recalling some of its credit cards. In the past approximately 5% of cardholders defaulted, leaving the bank unable to collect the outstanding balance. Hence, management established a prior probability of .05 that any particular cardholder will default. The bank also found that the probability of missing a monthly payment is .20 for customers who do not default. Of course, the probability of missing a monthly payment for those who default is 1.\n",
    "2. Given that a customer missed one or more monthly payments, compute the posterior probability that the customer will default.\n",
    "3. The bank would like to recall its card if the probability that a customer will default is greater than .20. Should the bank recall its card if the customer misses a monthly payment? Why or why not?"
   ]
  },
  {
   "cell_type": "markdown",
   "metadata": {
    "collapsed": false
   },
   "source": [
    "#### Exercise: Poker \n",
    "1. Draw 2 cards from a standard deck of 52-cards. How many distinct outcomes are there in the sample space?\n",
    "2. Define the following events:\n",
    "    * S = {spade}; H = {heart}; D = {diamond}; C = {club}\n",
    "    * A = {ace}; K = {king}; Q = {queen}; J = {jack}; 10 = {10}; etc.\n",
    "3. P(H) = ? P(K) = ?\n",
    "4. Is H and K independent? Why or why not?"
   ]
  },
  {
   "cell_type": "markdown",
   "metadata": {},
   "source": [
    "#### Optional Exercise (if time allows): Texas Hold'em\n",
    "1. Game Rules\n",
    "    * Two cards are dealth face down to each player ('hole cards' or 'hold cards').\n",
    "    * Five community cards are dealt face up in three stages.\n",
    "        * Stage 1: a series of three cards ('the flop')\n",
    "        * Stage 2: an additional single card ('the turn' or 'fourth sheet')\n",
    "        * Stage 3: a final card ('the river' or 'fifth sheet')\n",
    "    * Poker Hands\n",
    "        * Royal flush\n",
    "        * Straight flush\n",
    "        * 4 of a kind\n",
    "        * Full house\n",
    "        * Flush\n",
    "        * Straight\n",
    "        * 3 of a kind\n",
    "        * 2 pairs\n",
    "        * 1 pair\n",
    "2. How many possible distinct hands are there?\n",
    "3. What is the probability of royal flush, straight flush, etc.?\n",
    "4. Suppose your hand is {SA, HA} and the flop is {D6, C8, H9}. P(full house) = ? P(3 of a kind) = ? P(2 pairs) = ?\n"
   ]
  },
  {
   "cell_type": "markdown",
   "metadata": {},
   "source": [
    "#### Application of Bayes Rule: Naive Bayes Algorithm in ML (Spam vs. Ham Example)\n",
    "1. Suppose we have collected large number of emails and have them (correctly) labeled as \"Spam\" or \"Ham\".\n",
    "2. Let W be the set of all the distinct words used, i.e., W = [W1, ..., Wn], called bag of words.\n",
    "    * It is recommended that you have stop words removed.\n",
    "    * You may also consider 2-gram, etc.\n",
    "3. We (actually computers) can then compute P(W1), ..., P(Wn), as well as P(W1|S), P(W1|H), ..., P(Wn|S), P(Wn|H).\n",
    "4. Now we receive an email with distinct words [w1, ..., wk]. We (well, computers again) can then compute P(S|[w1, ... wk]) and classify it as 'spam' or 'ham' according to a pre-determined threshold probability.\n"
   ]
  },
  {
   "cell_type": "code",
   "execution_count": null,
   "metadata": {
    "collapsed": true
   },
   "outputs": [],
   "source": []
  }
 ],
 "metadata": {
  "kernelspec": {
   "display_name": "Python 2",
   "language": "python",
   "name": "python2"
  },
  "language_info": {
   "codemirror_mode": {
    "name": "ipython",
    "version": 2
   },
   "file_extension": ".py",
   "mimetype": "text/x-python",
   "name": "python",
   "nbconvert_exporter": "python",
   "pygments_lexer": "ipython2",
   "version": "2.7.11"
  }
 },
 "nbformat": 4,
 "nbformat_minor": 0
}
