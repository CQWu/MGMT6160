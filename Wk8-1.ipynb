{
 "cells": [
  {
   "cell_type": "markdown",
   "metadata": {},
   "source": [
    "# Testing Muitiple Proportions, Independence, and Goodness of Fit"
   ]
  },
  {
   "cell_type": "markdown",
   "metadata": {},
   "source": [
    "## Testing the Equality of Three or More Population Proportions\n",
    "$H_0: p_1 = p_2 = ... =p_k$\n",
    "\n",
    "$H_a: $ not all population proportions are equal\n",
    "\n",
    "where k $\\geq$ 3 is the total number of populations\n",
    "\n",
    "$p_i$ is the proportion of population i, $1 \\leq i \\leq k$"
   ]
  },
  {
   "cell_type": "markdown",
   "metadata": {},
   "source": [
    "### Example\n",
    "JD Power uses the proportion of owners likely to repurchase a particular automobile as an indication of customer loyalty for the automobile. An automobile with a greater proportion of owners likely to repurchase is concluded to have greater customer loyalty. Suppose that in a particular study we want to compare the customer loyalty for three automobiles: Chevrolet Impala, Ford Fusion, and Honda Accord. The current owners of each of the three automobiles form the three populations for the study.\n",
    "\n",
    "Let $p_1, p_2, p_3$ be the proportions likely to repurchase Impala, Fusion, and Accord for their respective populations.\n",
    "\n",
    "The hypotheses are stated as follows:\n",
    "\n",
    "$H_0: p_1 = p_2 = p_3$\n",
    "\n",
    "$H_a: $ not all population proportions are equal\n",
    "\n",
    "To conduct this hypothesis test we begin by taking a sample of owners from each of the three populations. \n",
    "\n",
    "#### The Observed Frequencies\n",
    "\n",
    "|                        | Impala Owners | Fusion Owners | Accord Owners | Total  | \n",
    "|:-----------------------|:-------------:|:-------------:|:-------------:|:------:|\n",
    "| likely to repurchase   | 69            | 120           |   123         |  312   |\n",
    "| unlikely to repurchase | 56            | 80            |    52         |  188   |\n",
    "|    total               | 125           | 200           |   175         |   500  |\n"
   ]
  },
  {
   "cell_type": "markdown",
   "metadata": {},
   "source": [
    "#### Expected Frequencies under the Assumptuion $H_0$ is True\n",
    "1. $\\frac{312}{500} = .624$ owners in the sample are likely to repurchase.\n",
    "2. If $H_0$ is true, then there should be 62.4% of Impala, Fusion, and Accord owners, respectively, who are likely to repurcases.\n",
    "3. The expected # of Impala owners who are likely to repurchase is thus .624*125 = 78; The expected # of Impala owners who are unlikely to repurchase is thus 125 - 78 = 47, etc.\n",
    "\n",
    "\n",
    "|                        | Impala Owners | Fusion Owners | Accord Owners | Total  | \n",
    "|:-----------------------|:-------------:|:-------------:|:-------------:|:------:|\n",
    "| likely to repurchase   | 78            | 124.8         |   109.2       |  312   |\n",
    "| unlikely to repurchase | 47            | 75.2          |    65.8       |  188   |\n",
    "|    total               | 125           | 200           |   175         |   500  |\n"
   ]
  },
  {
   "cell_type": "markdown",
   "metadata": {},
   "source": [
    "### Formulas for Computing Expected Frequencies and Chi-Sqaure Test Statistic"
   ]
  },
  {
   "cell_type": "markdown",
   "metadata": {},
   "source": [
    "<img src=\"Fig12-1.bmp\">"
   ]
  },
  {
   "cell_type": "markdown",
   "metadata": {},
   "source": [
    "<img src=\"Fig12-2.bmp\">"
   ]
  },
  {
   "cell_type": "code",
   "execution_count": 1,
   "metadata": {
    "collapsed": true
   },
   "outputs": [],
   "source": [
    "from scipy.stats import chi2"
   ]
  },
  {
   "cell_type": "code",
   "execution_count": 2,
   "metadata": {
    "collapsed": true
   },
   "outputs": [],
   "source": [
    "observed = [69, 120, 123, 56, 80, 52]\n",
    "expected = [78, 124.8, 109.2, 47, 75.2, 65.8]"
   ]
  },
  {
   "cell_type": "code",
   "execution_count": 3,
   "metadata": {
    "collapsed": false
   },
   "outputs": [
    {
     "name": "stdout",
     "output_type": "stream",
     "text": [
      "7.89104512509 5.99146454711 0.0193411067905\n"
     ]
    }
   ],
   "source": [
    "chi_square = 0\n",
    "\n",
    "for i in range(len(observed)):\n",
    "    chi_square += (observed[i]-expected[i])**2./expected[i]\n",
    "\n",
    "crit = chi2.ppf(0.95, 2) # Find the critical value for 95% confidence\n",
    "\n",
    "p_value = 1 - chi2.cdf(chi_square, 2)\n",
    "\n",
    "print chi_square, crit, p_value"
   ]
  },
  {
   "cell_type": "markdown",
   "metadata": {},
   "source": [
    "### Summary of Procedure for Testing the Equality of Three or More Population Proportions"
   ]
  },
  {
   "cell_type": "markdown",
   "metadata": {
    "collapsed": false
   },
   "source": [
    "<img src=\"Fig12-3.bmp\">"
   ]
  },
  {
   "cell_type": "markdown",
   "metadata": {},
   "source": [
    "### **A chi-square test for equal populaton proportions will always be an upper tail test.**\n",
    "* If $H_0$ is true, then the differences between the observed frequencies and the expected frequencies will be relatively small; thus the chi square test statistic will be relatively small. \n",
    "* If, on the other hand, $H_0$ is false, then the chi square test statistic will be relatively large."
   ]
  },
  {
   "cell_type": "markdown",
   "metadata": {
    "collapsed": true
   },
   "source": [
    "### Concluding Remarks\n",
    "1. In this example, we are essentially testing whether the hypothesis P(repurchase|Impala) = P(repurchase|Fusion) = P(repurchase|Accord) is true.\n",
    "2. If the hypothesis is true, we can then conclude that customer loyalty for automobiles is independent of the brands.\n",
    "3. Thus, chi square test can be used to test whether two (categorical) variables are independent."
   ]
  }
 ],
 "metadata": {
  "anaconda-cloud": {},
  "kernelspec": {
   "display_name": "Python [default]",
   "language": "python",
   "name": "python2"
  },
  "language_info": {
   "codemirror_mode": {
    "name": "ipython",
    "version": 2
   },
   "file_extension": ".py",
   "mimetype": "text/x-python",
   "name": "python",
   "nbconvert_exporter": "python",
   "pygments_lexer": "ipython2",
   "version": "2.7.12"
  }
 },
 "nbformat": 4,
 "nbformat_minor": 0
}
