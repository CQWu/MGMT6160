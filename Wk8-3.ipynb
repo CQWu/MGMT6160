{
 "cells": [
  {
   "cell_type": "markdown",
   "metadata": {},
   "source": [
    "## Tests of Goodness of Fit (Determine Whether a Population Being Sampled Has a Specific Probability Distribution)\n",
    "### Multinomial Probability Distribution\n",
    "Consider the market share study being conducted by Scott Marketing Research. Over the past year, market shares for a certain product have stabilized at 30% for company A, 50% for company B, and 20% for company C. Since each customer is classified as buying from one of these companies, we have a multinomial probability distribution with three possible outcomes. The probability for each of the three outcomes is as follows.\n",
    "\n",
    "$p_A$: probability a customer purchases the company A product \n",
    "\n",
    "$p_B$: probability a customer purchases the company B product \n",
    "\n",
    "$p_C$: probability a customer purchases the company C product\n",
    "\n",
    "Using the historical market shares, we have multinomial probability distribution with $p_A$ = .30, $p_B$ = .50, and $p_C$ = .20.\n",
    "Company C plans to introduce a “new and improved” product to replace its current entry in the market. Company C has retained Scott Marketing Research to determine whether the new product will alter or change the market shares for the three companies. Specifically, the Scott Marketing Research study will introduce a sample of customers to the new company C product and then ask the customers to indicate a preference for the company A product, the company B product, or the new company C product. Based on the sample data, the following hypothesis test can be used to determine if the new company C product is likely to change the historical market shares for the three companies.\n",
    "\n",
    "$H_0$:\t$p_A$ = .30, $p_B$ = .50, and $p_C$ = .20 \n",
    "\n",
    "$H_a$: The population proportions are not $p_A$ = .30, $p_B$ = .50, and $p_C$ = .20\n",
    "\n",
    "Let us assume that the market research firm has used a consumer panel of 200 customers. Each customer was asked to specify a purchase preference among the three alternatives: company A’s product, company B’s product, and company C's new product.\n",
    "#### The Observed Frequencies\n",
    "\n",
    "| Company A's Product | Company B's Product | Company C's Product|\n",
    "|:-------------:|:-------------:|:-------------:|\n",
    "| 48            | 98          |   54         |\n",
    "\n",
    "#### The Expected Frequencies\n",
    "\n",
    "| Company A's Product | Company B's Product | Company C's Product|\n",
    "|:-------------:|:-------------:|:-------------:|\n",
    "| 200(.3) = 60            | 200(.5) = 100         |   200(.2) = 40         |\n"
   ]
  },
  {
   "cell_type": "code",
   "execution_count": 1,
   "metadata": {
    "collapsed": true
   },
   "outputs": [],
   "source": [
    "from scipy.stats import chi2"
   ]
  },
  {
   "cell_type": "code",
   "execution_count": 2,
   "metadata": {
    "collapsed": true
   },
   "outputs": [],
   "source": [
    "observed = [48, 98, 54]\n",
    "expected = [60, 100, 40]"
   ]
  },
  {
   "cell_type": "code",
   "execution_count": 3,
   "metadata": {
    "collapsed": false
   },
   "outputs": [
    {
     "name": "stdout",
     "output_type": "stream",
     "text": [
      "7.34 5.99146454711 0.0254764699467\n"
     ]
    }
   ],
   "source": [
    "chi_square = sum([(x-y)**2./y for x, y in zip(observed, expected)])\n",
    "crit = chi2.ppf(0.95, 2) # Find the critical value for 95% confidence\n",
    "p_value = 1 - chi2.cdf(chi_square, 2)\n",
    "print chi_square, crit, p_value"
   ]
  },
  {
   "cell_type": "markdown",
   "metadata": {},
   "source": [
    "<img src=\"Fig12-5.bmp\">"
   ]
  },
  {
   "cell_type": "code",
   "execution_count": null,
   "metadata": {
    "collapsed": true
   },
   "outputs": [],
   "source": []
  }
 ],
 "metadata": {
  "anaconda-cloud": {},
  "kernelspec": {
   "display_name": "Python [default]",
   "language": "python",
   "name": "python2"
  },
  "language_info": {
   "codemirror_mode": {
    "name": "ipython",
    "version": 2
   },
   "file_extension": ".py",
   "mimetype": "text/x-python",
   "name": "python",
   "nbconvert_exporter": "python",
   "pygments_lexer": "ipython2",
   "version": "2.7.12"
  }
 },
 "nbformat": 4,
 "nbformat_minor": 0
}
