{
 "cells": [
  {
   "cell_type": "markdown",
   "metadata": {},
   "source": [
    "## Test of Independence\n",
    "A beer industry association conducts a survey to determine the preferences of beer drinkers for light, regular, and dark beers. A sample of 200 beer drinkers is taken with each person in the sample asked to indicate a preference for one of the three types of beers: light, regular, or dark. At the end of the survey questionnaire, the respondent is asked to provide information on a variety of demographics including gender: male or female. A research question of interest to the association is whether preference for the three types of beer is independent of the gender of the beer drinker. If the two categorical variables, beer preference and gender, are independent, beer preference does not depend on gender and the preference for light, regular, and dark beer can be expected to be the same for male and female beer drinkers. However, if the test conclusion is that the two categorical variables are not independent, we have evidence that beer preference is associated or dependent upon the gender of the beer drinker. As a result, we can expect beer preferences to differ for male and female beer drinkers. In this case, a beer manufacturer could use this information to customize its promotions and advertising for the different target markets of male and female beer drinkers.\n",
    "The hypotheses for this test of independence are as follows: \n",
    "\n",
    "$H_0$: Beer preference is independent of gender\n",
    "\n",
    "$H_a$: Beer preference is not independent of gender\n",
    "\n",
    "#### Observed Frequency Table\n",
    "|                     |   Male   | Female | Total  | \n",
    "|:--------------------|:--------:|:------:|:------:|\n",
    "| prefer light beer   | 51       | 39     |   90   |\n",
    "| prefer regular beer | 56       | 21     |   77   |\n",
    "| prefer dark beer    | 25       | 8      |   33   |\n",
    "|    total            | 132      | 68     |   200  |\n"
   ]
  },
  {
   "cell_type": "markdown",
   "metadata": {},
   "source": [
    "### Connection with Probability Theory\n",
    "* Suppose we define the following events:\n",
    "    * $B_i$ = prefer beer i, where i = 1 (light beer), 2 (regular beer), or 3 (dark beer)\n",
    "    * $G_j$ = gender of group j, where j = 1 (male) or 2 (female)\n",
    "* If beer preference and gender are independent, then P($B_iG_j$) = P($B_i$)P($G_j$) for all i and j.\n",
    "* Alteratively, P($B_i$) =  P($B_i|G_j$). That is, we are testing whether P($B_i$) =  P($B_i$|Male) = P($B_i$|Female) for all i.\n",
    "* Joint Probability Table (__Observed Relative Frequency Table__)\n",
    "\n",
    "\n",
    "|                     |   Male            | Female          | Marginal Prob    | \n",
    "|:--------------------|:-----------------:|:---------------:|:----------------:|\n",
    "| prefer light beer   | 51/200 = 25.5%    | 39/200 = 19.5%  |   90/200 = 45%   |\n",
    "| prefer regular beer | 56/200 = 28%      | 21/200 = 10.5%  |   77/200 = 38.5% |\n",
    "| prefer dark beer    | 25/200 = 12.5%    | 8/200 = 4%      |   33/200 = 16.5% |\n",
    "| Marginal Prob       | 132/200 = 66%     | 68/200 = 34%    |   200/200 = 100% |\n",
    "\n",
    "* If independent, Joint Probability Table (__Expected Relative Frequency Table__)\n",
    "\n",
    "\n",
    "|                     |   Male             | Female             | Marginal Prob    | \n",
    "|:--------------------|:------------------:|:------------------:|:----------------:|\n",
    "| prefer light beer   | .66(.45) = 29.7%   | .34(.45) = 15.3%   |   45%            |\n",
    "| prefer regular beer | .66(.385) = 25.41% | .34(.385) = 13.09% |   38.5%          |\n",
    "| prefer dark beer    | .66(.165) = 10.89% | .34(.165) = 5.61%  |   16.5%          |\n",
    "| Marginal Prob       | 66%                | 34%                |   100%           |\n",
    "\n",
    "\n",
    "* If independent, __Expected Frequency Table__\n",
    "\n",
    "\n",
    "|                     |   Male             | Female             | Total    | \n",
    "|:--------------------|:------------------:|:------------------:|:----------------:|\n",
    "| prefer light beer   | 200(.297) = 59.4   | 200(.153) = 30.6   |   90             |\n",
    "| prefer regular beer | 200(.2541) = 50.82 | 200(.1309) = 26.18 |   77            |\n",
    "| prefer dark beer    | 200(.1089%) = 21.78| 200(.0561) = 11.22 |   33            |\n",
    "| Total       | 132                | 68                 |   200           |\n",
    "\n",
    "\n",
    "\n"
   ]
  },
  {
   "cell_type": "markdown",
   "metadata": {},
   "source": [
    "<img src=\"Fig12-1.bmp\">"
   ]
  },
  {
   "cell_type": "code",
   "execution_count": 1,
   "metadata": {
    "collapsed": true
   },
   "outputs": [],
   "source": [
    "from scipy.stats import chi2"
   ]
  },
  {
   "cell_type": "code",
   "execution_count": 6,
   "metadata": {
    "collapsed": true
   },
   "outputs": [],
   "source": [
    "observed = [51, 39, 56, 21, 25, 8]\n",
    "expected = [59.4, 30.6, 50.82, 26.18, 21.78, 11.22]"
   ]
  },
  {
   "cell_type": "code",
   "execution_count": 13,
   "metadata": {
    "collapsed": false
   },
   "outputs": [
    {
     "name": "stdout",
     "output_type": "stream",
     "text": [
      "6.4468211527 5.99146454711 0.0398190205991\n"
     ]
    }
   ],
   "source": [
    "chi_square = sum([(x-y)**2./y for x, y in zip(observed, expected)])\n",
    "crit = chi2.ppf(q = .95,    # Find the critical chi square value for 5% level of significance\n",
    "               df = 2)    \n",
    "p_value = 1 - chi2.cdf(x=chi_square, df = 2)\n",
    "print chi_square, crit, p_value"
   ]
  },
  {
   "cell_type": "markdown",
   "metadata": {},
   "source": [
    "<img src=\"Fig12-4.bmp\">"
   ]
  },
  {
   "cell_type": "markdown",
   "metadata": {},
   "source": [
    "### Comments on df = (r -1)(c -1)\n",
    "* We begin with rXc degrees of freedom.\n",
    "* In order for us to conduct the testing, we have to know the sums of each row and each column. That leads to a loss of r + c - 1 degrees of freedom.\n",
    "* Why r + c - 1? There are r + c subtotals. The sum of all row subtotals is equal to the sum of column subtotals. So, if we know r + c - 1 subtotals, we can easily compute the last one.\n",
    "* In our example, r = 3 and c = 2. Out of those 3*2 = 6 numbers, if we know 2 of those 6 numbers, we can figure out the rest four numbers because we know all the subtotals. In other words, we only have \"freedom\" to change two of those numbers. Thus, df = 2 = (3 - 1)(2 - 1)."
   ]
  },
  {
   "cell_type": "code",
   "execution_count": null,
   "metadata": {
    "collapsed": true
   },
   "outputs": [],
   "source": []
  }
 ],
 "metadata": {
  "anaconda-cloud": {},
  "kernelspec": {
   "display_name": "Python 2",
   "language": "python",
   "name": "python2"
  },
  "language_info": {
   "codemirror_mode": {
    "name": "ipython",
    "version": 2
   },
   "file_extension": ".py",
   "mimetype": "text/x-python",
   "name": "python",
   "nbconvert_exporter": "python",
   "pygments_lexer": "ipython2",
   "version": "2.7.11"
  }
 },
 "nbformat": 4,
 "nbformat_minor": 0
}
