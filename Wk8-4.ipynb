{
 "cells": [
  {
   "cell_type": "markdown",
   "metadata": {},
   "source": [
    "## Tests of Goodness of Fit for Normal Distribution\n",
    "Note: Normal Distribution is continuous. We must modify the way the categories are defined and how the expected frequencies are computed.\n",
    "\n",
    "Chemline hires approximately 400 new employees annually for its four plants located throughout the United States. An aptitude test is given to new employees. The personnel director asks whether a normal distribution applies for the population of test scores. If such a distribution can be used, the distribution would be helpful in evaluating specific test scores; that is, scores in the upper 20%, lower 40%, and so on, could be identified quickly. Hence, we want to test the null hypothesis that the population of test scores has a normal distribution."
   ]
  },
  {
   "cell_type": "markdown",
   "metadata": {},
   "source": [
    "### Load Sample Data, Compute Sample Mean and Standard Deviation"
   ]
  },
  {
   "cell_type": "code",
   "execution_count": 1,
   "metadata": {
    "collapsed": true
   },
   "outputs": [],
   "source": [
    "from scipy.stats import chi2, norm\n",
    "import numpy as np"
   ]
  },
  {
   "cell_type": "code",
   "execution_count": 2,
   "metadata": {
    "collapsed": false
   },
   "outputs": [],
   "source": [
    "# Create a numpy array to store the 50 sample test scores\n",
    "score = np.array([71, 66, 61, 65, 54, 93, 60, 86, 70, 70, 73, 73, 55, 63, 56, 62, 76, 54, 82, 79, 76, 68, 53, 58, 85, 80,\n",
    "                  56, 61, 61, 64, 65, 62, 90, 69, 76, 79, 77, 54, 64, 74, 65, 65, 61, 56, 63, 80, 56, 71, 79, 84])"
   ]
  },
  {
   "cell_type": "code",
   "execution_count": 3,
   "metadata": {
    "collapsed": false
   },
   "outputs": [
    {
     "name": "stdout",
     "output_type": "stream",
     "text": [
      "68.42 10.4140603542\n"
     ]
    }
   ],
   "source": [
    "X_bar = score.mean(); s = score.std(ddof=1)\n",
    "print X_bar, s"
   ]
  },
  {
   "cell_type": "markdown",
   "metadata": {},
   "source": [
    "### Develop Hypotheses\n",
    "Using these values, we state the following hypotheses about the distribution of the job applicant test scores. \n",
    "\n",
    "$H_0$: The population of test scores has a normal distribution with mean 68.42 and standard deviation 10.41 \n",
    "\n",
    "$H_a$: The population of test scores does not have a normal distribution with mean 68.42 and standard deviation 10.41"
   ]
  },
  {
   "cell_type": "markdown",
   "metadata": {},
   "source": [
    "### Establish Categories\n",
    "* With the continuous normal probability distribution, we must use a different procedure for defining the categories. We need to define the categories in terms of intervals of test scores. \n",
    "\n",
    "* Recall the rule of thumb for an expected frequency of at least five in each interval or category. We define the categories of test scores such that the expected frequencies will be at least five for each category. With a sample size of 50, one way is to divide the normal distribution into 10 equal-probability intervals."
   ]
  },
  {
   "cell_type": "code",
   "execution_count": 4,
   "metadata": {
    "collapsed": false,
    "scrolled": true
   },
   "outputs": [
    {
     "name": "stdout",
     "output_type": "stream",
     "text": [
      "[0.1, '-1.2816', '55.0738']\n",
      "[0.2, '-0.8416', '59.6553']\n",
      "[0.3, '-0.5244', '62.9589']\n",
      "[0.4, '-0.2533', '65.7816']\n",
      "[0.5, '0.0000', '68.4200']\n",
      "[0.6, '0.2533', '71.0584']\n",
      "[0.7, '0.5244', '73.8811']\n",
      "[0.8, '0.8416', '77.1847']\n",
      "[0.9, '1.2816', '81.7662']\n"
     ]
    }
   ],
   "source": [
    "bins = [-float('inf')]\n",
    "for i in range(9):\n",
    "    p = (i+1)/10.; z = norm.ppf(p); bound = X_bar + z*s\n",
    "    print [p, '{:6.4f}'.format(z), '{:6.4f}'.format(bound)]\n",
    "    bins.append(bound)\n",
    "bins.append(float('inf'))"
   ]
  },
  {
   "cell_type": "markdown",
   "metadata": {},
   "source": [
    "### Observed and Expected Frequencies"
   ]
  },
  {
   "cell_type": "code",
   "execution_count": 5,
   "metadata": {
    "collapsed": false
   },
   "outputs": [
    {
     "name": "stdout",
     "output_type": "stream",
     "text": [
      " 5 5.0\n",
      " 5 5.0\n",
      " 7 5.0\n",
      " 8 5.0\n",
      " 2 5.0\n",
      " 5 5.0\n",
      " 2 5.0\n",
      " 5 5.0\n",
      " 5 5.0\n",
      " 6 5.0\n"
     ]
    }
   ],
   "source": [
    "frequency = []\n",
    "for i in range(10):\n",
    "    observed, expected = sum(num >= bins[i] and num < bins[i+1] # count the number of scores within an interval; True =1\n",
    "                             for num in score), 50*.1\n",
    "    print '{:2d}'.format(observed), expected\n",
    "    frequency.append((observed, expected))"
   ]
  },
  {
   "cell_type": "code",
   "execution_count": 6,
   "metadata": {
    "collapsed": false
   },
   "outputs": [
    {
     "name": "stdout",
     "output_type": "stream",
     "text": [
      "6.4 14.0671404493 0.493894649969\n"
     ]
    }
   ],
   "source": [
    "chi_square = sum([(x[0]-x[1])**2./x[1] for x in frequency])\n",
    "\n",
    "# Find the critical value for 95% confidence\n",
    "# The df = number of intervals - 3 \n",
    "crit = chi2.ppf(0.95, 7) \n",
    "\n",
    "p_value = 1 - chi2.cdf(chi_square, 7)\n",
    "print chi_square, crit, p_value"
   ]
  },
  {
   "cell_type": "markdown",
   "metadata": {},
   "source": [
    "### Comment\n",
    "* The numbers here are slightly differrent from in the book (Statistics for Business and Economics) because of rounding errors.\n",
    "    * The numbers here are more accurate.\n",
    "    * The 30th percentile here is 62.96 whereas it is 63.01 in the book.\n",
    "    * That leads to the counts of 7 and 8 in the 3rd and 4th intervals. Those two counts are 9 and 6, respectively in the book.\n"
   ]
  },
  {
   "cell_type": "markdown",
   "metadata": {},
   "source": [
    "### Summary\n",
    "<img src=\"Fig12-6.bmp\">"
   ]
  },
  {
   "cell_type": "code",
   "execution_count": null,
   "metadata": {
    "collapsed": true
   },
   "outputs": [],
   "source": []
  }
 ],
 "metadata": {
  "anaconda-cloud": {},
  "kernelspec": {
   "display_name": "Python [default]",
   "language": "python",
   "name": "python2"
  },
  "language_info": {
   "codemirror_mode": {
    "name": "ipython",
    "version": 2
   },
   "file_extension": ".py",
   "mimetype": "text/x-python",
   "name": "python",
   "nbconvert_exporter": "python",
   "pygments_lexer": "ipython2",
   "version": "2.7.12"
  }
 },
 "nbformat": 4,
 "nbformat_minor": 1
}
