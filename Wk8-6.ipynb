{
 "cells": [
  {
   "cell_type": "code",
   "execution_count": 1,
   "metadata": {
    "collapsed": true
   },
   "outputs": [],
   "source": [
    "from scipy.stats import f\n",
    "import numpy as np"
   ]
  },
  {
   "cell_type": "code",
   "execution_count": 2,
   "metadata": {
    "collapsed": true
   },
   "outputs": [],
   "source": [
    "data = np.array([[[500, 580], [540, 460], [480, 400]], \n",
    "                 [[460, 540], [560, 620], [420, 480]], \n",
    "                 [[560, 600], [600, 580], [480, 410]]])\n",
    "\n",
    "# Compute overall sample mean\n",
    "grand_mean = data.mean()\n",
    "\n",
    "# Compte factor A means\n",
    "A_mean = data.mean(axis=(2, 1))\n",
    "\n",
    "# Compte factor B means\n",
    "B_mean = data.mean(axis=(2, 0))\n",
    "\n",
    "# Compte each of the 9 treatment means\n",
    "TR_mean = data.mean(axis=2)"
   ]
  },
  {
   "cell_type": "code",
   "execution_count": 3,
   "metadata": {
    "collapsed": false
   },
   "outputs": [
    {
     "data": {
      "text/plain": [
       "array([[ 540.,  500.,  440.],\n",
       "       [ 500.,  590.,  450.],\n",
       "       [ 580.,  590.,  445.]])"
      ]
     },
     "execution_count": 3,
     "metadata": {},
     "output_type": "execute_result"
    }
   ],
   "source": [
    "data.mean(axis=2)"
   ]
  },
  {
   "cell_type": "code",
   "execution_count": 4,
   "metadata": {
    "collapsed": false
   },
   "outputs": [
    {
     "data": {
      "text/plain": [
       "array([ 493.33333333,  513.33333333,  538.33333333])"
      ]
     },
     "execution_count": 4,
     "metadata": {},
     "output_type": "execute_result"
    }
   ],
   "source": [
    "data.mean(axis=(2, 1))"
   ]
  },
  {
   "cell_type": "code",
   "execution_count": 5,
   "metadata": {
    "collapsed": false
   },
   "outputs": [
    {
     "data": {
      "text/plain": [
       "array([ 540.,  560.,  445.])"
      ]
     },
     "execution_count": 5,
     "metadata": {},
     "output_type": "execute_result"
    }
   ],
   "source": [
    "data.mean(axis=(2, 0))"
   ]
  },
  {
   "cell_type": "code",
   "execution_count": 6,
   "metadata": {
    "collapsed": false
   },
   "outputs": [],
   "source": [
    "SST = sum([(x-grand_mean)**2. for x in data.flatten()])"
   ]
  },
  {
   "cell_type": "code",
   "execution_count": 7,
   "metadata": {
    "collapsed": false
   },
   "outputs": [
    {
     "data": {
      "text/plain": [
       "array([500, 580, 540, 460, 480, 400, 460, 540, 560, 620, 420, 480, 560,\n",
       "       600, 600, 580, 480, 410])"
      ]
     },
     "execution_count": 7,
     "metadata": {},
     "output_type": "execute_result"
    }
   ],
   "source": [
    "# flatten a numpy array\n",
    "data.flatten()"
   ]
  },
  {
   "cell_type": "code",
   "execution_count": 8,
   "metadata": {
    "collapsed": false
   },
   "outputs": [
    {
     "data": {
      "text/plain": [
       "(3L, 3L, 2L)"
      ]
     },
     "execution_count": 8,
     "metadata": {},
     "output_type": "execute_result"
    }
   ],
   "source": [
    "# shape of numpy array\n",
    "data.shape"
   ]
  },
  {
   "cell_type": "markdown",
   "metadata": {},
   "source": [
    "##### (3, 3, 2) = (a, b, r)\n",
    "We thus have the number of levels of factor A, the number of levels of factor B, and number of replications in each treatment"
   ]
  },
  {
   "cell_type": "code",
   "execution_count": 9,
   "metadata": {
    "collapsed": true
   },
   "outputs": [],
   "source": [
    "a = data.shape[0]; b = data.shape[1]; r = data.shape[2]"
   ]
  },
  {
   "cell_type": "code",
   "execution_count": 10,
   "metadata": {
    "collapsed": false
   },
   "outputs": [],
   "source": [
    "SSA = b*r*sum([(x-grand_mean)**2. for x in A_mean])"
   ]
  },
  {
   "cell_type": "code",
   "execution_count": 11,
   "metadata": {
    "collapsed": false
   },
   "outputs": [],
   "source": [
    "SSB = a*r*sum([(x-grand_mean)**2. for x in B_mean])"
   ]
  },
  {
   "cell_type": "code",
   "execution_count": 12,
   "metadata": {
    "collapsed": false
   },
   "outputs": [],
   "source": [
    "# Compute SSAB\n",
    "SSAB = 0\n",
    "for i in range(a):\n",
    "    for j in range(b):\n",
    "        SSAB += (TR_mean[i][j] - A_mean[i] - B_mean[j] + grand_mean)**2.\n",
    "SSAB = r*SSAB"
   ]
  },
  {
   "cell_type": "code",
   "execution_count": 13,
   "metadata": {
    "collapsed": true
   },
   "outputs": [],
   "source": [
    "# Compute SSE\n",
    "SSE = SST - SSA - SSB - SSAB"
   ]
  },
  {
   "cell_type": "code",
   "execution_count": 14,
   "metadata": {
    "collapsed": false
   },
   "outputs": [],
   "source": [
    "# degrees of freedom\n",
    "dfa = data.shape[0] - 1\n",
    "dfb = data.shape[1] - 1\n",
    "dfab = dfa*dfb\n",
    "dfe = data.shape[0]*data.shape[1]*(data.shape[2]-1)\n",
    "dft = data.shape[0]*data.shape[1]*data.shape[2]-1"
   ]
  },
  {
   "cell_type": "code",
   "execution_count": 15,
   "metadata": {
    "collapsed": true
   },
   "outputs": [],
   "source": [
    "# Mean Squares\n",
    "MSA = SSA/dfa\n",
    "MSB = SSB/dfb\n",
    "MSAB = SSAB/dfab\n",
    "MSE = SSE/dfe"
   ]
  },
  {
   "cell_type": "code",
   "execution_count": 16,
   "metadata": {
    "collapsed": false
   },
   "outputs": [],
   "source": [
    "# F test statistics\n",
    "fa = MSA/MSE\n",
    "fb = MSB/MSE\n",
    "fab = MSAB/MSE"
   ]
  },
  {
   "cell_type": "code",
   "execution_count": 17,
   "metadata": {
    "collapsed": false
   },
   "outputs": [],
   "source": [
    "# p-values\n",
    "pa = 1 - f.cdf(fa, dfn=dfa, dfd=dfe)\n",
    "pb = 1 - f.cdf(fb, dfn=dfb, dfd=dfe)\n",
    "pab = 1 - f.cdf(fab, dfn=dfab, dfd=dfe)"
   ]
  },
  {
   "cell_type": "code",
   "execution_count": 18,
   "metadata": {
    "collapsed": false
   },
   "outputs": [
    {
     "name": "stdout",
     "output_type": "stream",
     "text": [
      "Factor A      6100.0      2      3050.0      1.38287153652      0.299436108572\n",
      "Factor B      45300.0     2      22650.0     10.2695214106      0.00475671804937\n",
      "Interaction   11200.0     4      2800.0      1.26952141058      0.350327769325\n",
      "Error         19850.0     9      2205.55555556\n",
      "Total         82450.0     17\n"
     ]
    }
   ],
   "source": [
    "print 'Factor A', '    ', SSA, '    ', dfa, '    ', MSA, '    ', fa, '    ', pa\n",
    "print 'Factor B', '    ', SSB, '   ', dfb, '    ', MSB, '   ', fb, '    ', pb\n",
    "print 'Interaction', ' ', SSAB, '   ', dfab, '    ', MSAB, '    ', fab, '    ', pab\n",
    "print 'Error', '       ', SSE, '   ', dfe, '    ', MSE\n",
    "print 'Total', '       ', SST, '   ', dft"
   ]
  },
  {
   "cell_type": "code",
   "execution_count": null,
   "metadata": {
    "collapsed": true
   },
   "outputs": [],
   "source": []
  }
 ],
 "metadata": {
  "anaconda-cloud": {},
  "kernelspec": {
   "display_name": "Python [default]",
   "language": "python",
   "name": "python2"
  },
  "language_info": {
   "codemirror_mode": {
    "name": "ipython",
    "version": 2
   },
   "file_extension": ".py",
   "mimetype": "text/x-python",
   "name": "python",
   "nbconvert_exporter": "python",
   "pygments_lexer": "ipython2",
   "version": "2.7.12"
  }
 },
 "nbformat": 4,
 "nbformat_minor": 1
}
