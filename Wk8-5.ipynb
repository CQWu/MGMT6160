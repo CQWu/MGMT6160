{
 "cells": [
  {
   "cell_type": "code",
   "execution_count": 1,
   "metadata": {
    "collapsed": true
   },
   "outputs": [],
   "source": [
    "from scipy.stats import f\n",
    "import numpy as np"
   ]
  },
  {
   "cell_type": "code",
   "execution_count": 2,
   "metadata": {
    "collapsed": false
   },
   "outputs": [
    {
     "data": {
      "text/plain": [
       "array([[58, 64, 55, 66, 67],\n",
       "       [58, 69, 71, 64, 68],\n",
       "       [48, 57, 59, 47, 49]])"
      ]
     },
     "execution_count": 2,
     "metadata": {},
     "output_type": "execute_result"
    }
   ],
   "source": [
    "data = np.array([[58, 64, 55, 66, 67], [58, 69, 71, 64, 68], [48, 57, 59, 47, 49]])\n",
    "data"
   ]
  },
  {
   "cell_type": "code",
   "execution_count": 3,
   "metadata": {
    "collapsed": false
   },
   "outputs": [
    {
     "data": {
      "text/plain": [
       "[5, 5, 5]"
      ]
     },
     "execution_count": 3,
     "metadata": {},
     "output_type": "execute_result"
    }
   ],
   "source": [
    "sample_size = [len(x) for x in data]\n",
    "sample_size"
   ]
  },
  {
   "cell_type": "code",
   "execution_count": 4,
   "metadata": {
    "collapsed": false
   },
   "outputs": [
    {
     "name": "stdout",
     "output_type": "stream",
     "text": [
      "15 3\n"
     ]
    }
   ],
   "source": [
    "n = sum(sample_size)\n",
    "k = len(sample_size)\n",
    "print n, k"
   ]
  },
  {
   "cell_type": "code",
   "execution_count": 5,
   "metadata": {
    "collapsed": false
   },
   "outputs": [
    {
     "name": "stdout",
     "output_type": "stream",
     "text": [
      "60.0\n"
     ]
    }
   ],
   "source": [
    "grand_mean = data.mean()\n",
    "print grand_mean"
   ]
  },
  {
   "cell_type": "code",
   "execution_count": 6,
   "metadata": {
    "collapsed": false
   },
   "outputs": [
    {
     "name": "stdout",
     "output_type": "stream",
     "text": [
      "[ 62.  66.  52.]\n"
     ]
    }
   ],
   "source": [
    "sample_mean = data.mean(axis =1)\n",
    "print sample_mean"
   ]
  },
  {
   "cell_type": "code",
   "execution_count": 7,
   "metadata": {
    "collapsed": false
   },
   "outputs": [
    {
     "name": "stdout",
     "output_type": "stream",
     "text": [
      "[ 5.24404424  5.14781507  5.56776436]\n"
     ]
    }
   ],
   "source": [
    "s = data.std(axis=1, ddof=1)\n",
    "print s"
   ]
  },
  {
   "cell_type": "code",
   "execution_count": 8,
   "metadata": {
    "collapsed": false
   },
   "outputs": [
    {
     "data": {
      "text/plain": [
       "[(5, 62.0), (5, 66.0), (5, 52.0)]"
      ]
     },
     "execution_count": 8,
     "metadata": {},
     "output_type": "execute_result"
    }
   ],
   "source": [
    "zip(sample_size, sample_mean)"
   ]
  },
  {
   "cell_type": "code",
   "execution_count": 9,
   "metadata": {
    "collapsed": false
   },
   "outputs": [
    {
     "name": "stdout",
     "output_type": "stream",
     "text": [
      "520.0 260.0\n"
     ]
    }
   ],
   "source": [
    "# Compute SSTR (sum of squares due to or between treatments) \n",
    "# While computing SSTR, we ignore the variations within treatment\n",
    "# Thus, it is as if each number were replaced with the sample mean of its treatment or group.\n",
    "\n",
    "SSTR = sum([x*(y-grand_mean)**2 for x, y in zip(sample_size, sample_mean)])\n",
    "df_tr = k - 1\n",
    "MSTR = SSTR/df_tr\n",
    "print SSTR, MSTR"
   ]
  },
  {
   "cell_type": "code",
   "execution_count": 10,
   "metadata": {
    "collapsed": false
   },
   "outputs": [
    {
     "name": "stdout",
     "output_type": "stream",
     "text": [
      "340.0 28.3333333333\n"
     ]
    }
   ],
   "source": [
    "# Compute SSE (sum of squares due to error within treatment)\n",
    "\n",
    "SSE = sum([(x-1)*(y**2) for x, y in zip(sample_size, s)])\n",
    "df_e = n - k\n",
    "MSE = SSE/df_e\n",
    "\n",
    "print SSE, MSE"
   ]
  },
  {
   "cell_type": "code",
   "execution_count": 11,
   "metadata": {
    "collapsed": false,
    "scrolled": true
   },
   "outputs": [
    {
     "name": "stdout",
     "output_type": "stream",
     "text": [
      "860.0 860.0\n"
     ]
    }
   ],
   "source": [
    "# Compte SST (sum of squared total variation)\n",
    "\n",
    "SST = (n-1)*data.std(ddof=1)**2\n",
    "df_t = n - 1\n",
    "print SST, SSTR+SSE"
   ]
  },
  {
   "cell_type": "code",
   "execution_count": 14,
   "metadata": {
    "collapsed": false
   },
   "outputs": [
    {
     "name": "stdout",
     "output_type": "stream",
     "text": [
      "3.88529383465\n",
      "\n",
      "treatment   520.0      2      260.0      9.17647058824      0.00381841207551\n",
      "error       340.0      12     28.3333333333\n",
      "total       860.0      14\n"
     ]
    }
   ],
   "source": [
    "# ANOVA: f test\n",
    "\n",
    "f_stat = MSTR/MSE\n",
    "crit = f.ppf(.95, dfn=df_tr, dfd=df_e)\n",
    "p_value = 1 - f.cdf(f_stat, dfn=df_tr, dfd=df_e)\n",
    "\n",
    "print crit\n",
    "print\n",
    "print 'treatment  ', SSTR, '    ', df_tr, '    ', MSTR, '    ', f_stat, '    ', p_value\n",
    "print 'error      ', SSE, '    ', df_e, '   ', MSE\n",
    "print 'total      ', SST, '    ', df_t"
   ]
  },
  {
   "cell_type": "code",
   "execution_count": null,
   "metadata": {
    "collapsed": true
   },
   "outputs": [],
   "source": []
  }
 ],
 "metadata": {
  "kernelspec": {
   "display_name": "Python [default]",
   "language": "python",
   "name": "python2"
  },
  "language_info": {
   "codemirror_mode": {
    "name": "ipython",
    "version": 2
   },
   "file_extension": ".py",
   "mimetype": "text/x-python",
   "name": "python",
   "nbconvert_exporter": "python",
   "pygments_lexer": "ipython2",
   "version": "2.7.12"
  }
 },
 "nbformat": 4,
 "nbformat_minor": 0
}
